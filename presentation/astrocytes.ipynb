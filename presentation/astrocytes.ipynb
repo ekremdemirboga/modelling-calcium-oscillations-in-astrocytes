{
 "cells": [
  {
   "cell_type": "markdown",
   "metadata": {},
   "source": [
    "<img src=\"header.png\" alt=\"Drawing\" style=\"width: 500px;\"/>"
   ]
  },
  {
   "cell_type": "markdown",
   "metadata": {},
   "source": [
    "<img src=\"schematic.png\" alt=\"Drawing\" style=\"width: 500px;\"/>"
   ]
  },
  {
   "cell_type": "code",
   "execution_count": null,
   "metadata": {},
   "outputs": [],
   "source": [
    "import numpy as np\n",
    "import matplotlib.pyplot as plt\n"
   ]
  },
  {
   "cell_type": "markdown",
   "metadata": {},
   "source": [
    "implementing the solver, Runge Kutta 4"
   ]
  },
  {
   "cell_type": "code",
   "execution_count": null,
   "metadata": {},
   "outputs": [],
   "source": [
    "def rk4(t,R,RHS,dt,parameters,noise=False):\n",
    "    ## evolves one time step of RK4 scheme for the vector R(t) -> R(t+ dt)\n",
    "    \n",
    "    k1 = dt*RHS(t,R, parameters,noise)\n",
    "    k2 = dt*RHS(t+dt*0.5, R+k1*0.5, parameters,noise)\n",
    "    k3 = dt*RHS(t+dt*0.5, R+k2*0.5, parameters,noise)\n",
    "    k4 = dt*RHS(t+dt, R+k3, parameters,noise)\n",
    "    return (R + (k1 + 2*k2 + 2*k3 + k4)*(1/6))"
   ]
  },
  {
   "cell_type": "markdown",
   "metadata": {},
   "source": [
    "<img src=\"equation.png\" alt=\"Drawing\" style=\"width: 500px;\"/>"
   ]
  },
  {
   "cell_type": "markdown",
   "metadata": {},
   "source": [
    "Where"
   ]
  },
  {
   "cell_type": "markdown",
   "metadata": {},
   "source": [
    "<img src=\"equation2.png\" alt=\"Drawing\" style=\"width: 500px;\"/>"
   ]
  },
  {
   "cell_type": "markdown",
   "metadata": {},
   "source": [
    "Let's write the RHS of the equations"
   ]
  },
  {
   "cell_type": "code",
   "execution_count": null,
   "metadata": {},
   "outputs": [],
   "source": [
    "def RHS(t,R,parameters,noise=False):\n",
    "    ## caclulates the RHS of the equation 28 in the https://www.sciencedirect.com/science/article/pii/S0022519307006510?via%3Dihub.\n",
    "    # INPUTS \n",
    "    ## parameters: constants of the ODE\n",
    "    ## t: time  \n",
    "    ## R = (X, Y, Z) where\n",
    "    # OUTPUTS \n",
    "    ## f = (f1, f2, f3) where\n",
    "    ## f#'s are the RHS of the equation\n",
    "    \n",
    "    \n",
    "    [vm2, vm3, v_in, v_p, k_2, k_CaA, k_CaI, k_ip3, k_p, k_deg, k_out, k_f, n, m] = parameters\n",
    "    \n",
    "    X = R[0]\n",
    "    Y = R[1]\n",
    "    Z = R[2]\n",
    "    \n",
    "    if noise:\n",
    "        gaussian_noise = np.random.normal(0, 0.3)\n",
    "        v_in = v_in + gaussian_noise\n",
    "    v_serca = (vm2 * X**2) / (X**2 + k_2 **2)    \n",
    "    v_PLC = (v_p * X**2) / (X**2 + k_p **2) \n",
    "    v_CICR = 4*vm3*(k_CaA**n * X**n / ( (X**n + k_CaA**n)*(X**n + k_CaI**n) ) )*(Z**m/(Z**m + k_ip3**m))*(Y-X)\n",
    "    \n",
    "    f1 = v_in - k_out*X + v_CICR - v_serca + k_f * (Y - X)\n",
    "    f2 = v_serca - v_CICR - k_f * (Y- X)\n",
    "    f3 = v_PLC - k_deg * Z\n",
    "\n",
    "    f = np.array([f1, f2, f3])\n",
    "    \n",
    "    return f"
   ]
  },
  {
   "cell_type": "markdown",
   "metadata": {},
   "source": [
    "Let's define an evolve function for convenience"
   ]
  },
  {
   "cell_type": "code",
   "execution_count": null,
   "metadata": {},
   "outputs": [],
   "source": [
    "def evolve (t_initial, t_final, R, dt, parameters,noise= False):\n",
    "    ## evolves the vector R from the initial time to the final time, R(t_initial) -> R(t_final)\n",
    "    ## using rk4.\n",
    "\n",
    "    t = t_initial ## starting time\n",
    "\n",
    "    ## define arrays for storing the solution\n",
    "    t_array = np.arange(t_initial, t_final+dt, dt)\n",
    "    X_array = np.zeros((len(t_array)),dtype=np.float64)\n",
    "    Y_array = np.zeros((len(t_array)),dtype=np.float64)\n",
    "    Z_array = np.zeros((len(t_array)),dtype=np.float64)\n",
    "    # Set initial values\n",
    "    X_array[0] = R[0]\n",
    "    Y_array[0] = R[1]\n",
    "    Z_array[0] = R[2]\n",
    "    \n",
    "    ## evolve by iterating rk4 len(t_array)\n",
    "    for i in range(1, len(t_array)):\n",
    "        R_next = rk4(t,R,RHS,dt,parameters,noise) ## main part\n",
    "        # save the values and update R\n",
    "        X_array[i] = R_next[0] \n",
    "        Y_array[i] = R_next[1]\n",
    "        Z_array[i] = R_next[2]\n",
    "        t_array[i] = t \n",
    "        R = R_next\n",
    "        t +=dt\n",
    "    return t_array,X_array,Y_array,Z_array"
   ]
  },
  {
   "cell_type": "markdown",
   "metadata": {},
   "source": [
    "Parameters:\n",
    "<img src=\"parameters.png\" alt=\"Drawing\" style=\"width: 400px;\"/>"
   ]
  },
  {
   "cell_type": "code",
   "execution_count": null,
   "metadata": {},
   "outputs": [],
   "source": [
    "def param_init():\n",
    "    vm2 = 15\n",
    "    vm3 = 40\n",
    "    v_in = 0.05\n",
    "    v_p = 0.05\n",
    "    k_2 = 0.1\n",
    "    k_CaA = 0.15\n",
    "    k_CaI = 0.15\n",
    "    k_ip3 = 0.1\n",
    "    k_p = 0.3\n",
    "    k_deg = 0.08\n",
    "    k_out = 0.5\n",
    "    k_f = 0.5\n",
    "    n = 2.02\n",
    "    m = 2.2\n",
    "    params = [vm2, vm3, v_in, v_p, k_2, k_CaA, k_CaI, \n",
    "              k_ip3, k_p, k_deg, k_out, k_f, n, m]\n",
    "    return np.asarray(params)\n",
    "parameters = param_init()"
   ]
  },
  {
   "cell_type": "markdown",
   "metadata": {},
   "source": [
    "Initial Conditions:"
   ]
  },
  {
   "cell_type": "code",
   "execution_count": null,
   "metadata": {},
   "outputs": [],
   "source": [
    "#initial condition\n",
    "X0 = 0.1\n",
    "Y0 = 1.5\n",
    "Z0 = 0.1\n",
    "initial_conditions = np.array([X0,Y0,Z0])"
   ]
  },
  {
   "cell_type": "markdown",
   "metadata": {},
   "source": [
    "Solver Parameters:"
   ]
  },
  {
   "cell_type": "code",
   "execution_count": null,
   "metadata": {},
   "outputs": [],
   "source": [
    "t_initial = 0\n",
    "t_final = 600\n",
    "dt = 1/128"
   ]
  },
  {
   "cell_type": "markdown",
   "metadata": {},
   "source": [
    "Solve"
   ]
  },
  {
   "cell_type": "code",
   "execution_count": null,
   "metadata": {},
   "outputs": [],
   "source": [
    "time,X,Y,Z = evolve(t_initial, t_final, initial_conditions, dt, parameters)"
   ]
  },
  {
   "cell_type": "markdown",
   "metadata": {},
   "source": [
    "Plotting:"
   ]
  },
  {
   "cell_type": "code",
   "execution_count": null,
   "metadata": {},
   "outputs": [],
   "source": [
    "plt.figure()\n",
    "plt.plot(time,X,'k',linewidth=3,label = 'X')\n",
    "# plt.plot(time,Y,'r',linewidth=3,label = 'Y')\n",
    "# plt.plot(time,Z,'g',linewidth=3,label = 'Z')\n",
    "plt.xlabel(r\"t\", fontsize=14)\n",
    "plt.ylabel(r\"X\", fontsize=14)\n",
    "plt.grid(True)\n"
   ]
  },
  {
   "cell_type": "code",
   "execution_count": null,
   "metadata": {},
   "outputs": [],
   "source": [
    "from IPython.display import Image, display\n",
    "display(Image('figure1.png', width=600))"
   ]
  },
  {
   "cell_type": "markdown",
   "metadata": {},
   "source": [
    "changing v_in"
   ]
  },
  {
   "cell_type": "code",
   "execution_count": null,
   "metadata": {},
   "outputs": [],
   "source": [
    "parameters[2] = 0.06\n",
    "time,X1,_,_ = evolve(t_initial, t_final, initial_conditions, dt, parameters)\n",
    "parameters[2] = 0.08\n",
    "time,X2,_,_ = evolve(t_initial, t_final, initial_conditions, dt, parameters)\n",
    "parameters[2] = 0.12\n",
    "time,X3,_,_ = evolve(t_initial, t_final, initial_conditions, dt, parameters)\n",
    "parameters[2] = 0.35\n",
    "time,X4,_,_ = evolve(t_initial, t_final, initial_conditions, dt, parameters)\n",
    "plt.figure()\n",
    "plt.plot(time,X1,'k',time,X2,'r',time,X3,'g',time,X4,'b',linewidth=3)\n",
    "plt.xlabel(r\"t\", fontsize=14)\n",
    "plt.ylabel(r\"X\", fontsize=14)\n",
    "plt.grid(True)"
   ]
  },
  {
   "cell_type": "code",
   "execution_count": null,
   "metadata": {},
   "outputs": [],
   "source": [
    "from IPython.display import Image, display\n",
    "display(Image('figure2.png', width=600))"
   ]
  },
  {
   "cell_type": "markdown",
   "metadata": {},
   "source": [
    "Activation and inhibation of SERCA pumps. i.e., changing v_serca"
   ]
  },
  {
   "cell_type": "code",
   "execution_count": null,
   "metadata": {},
   "outputs": [],
   "source": [
    "parameters = param_init()\n",
    "parameters[0] = 7\n",
    "time,X2,_,_ = evolve(t_initial, t_final, initial_conditions, dt, parameters)\n",
    "parameters[0] = 5\n",
    "time,X3,_,_ = evolve(t_initial, t_final, initial_conditions, dt, parameters)\n",
    "parameters[0] = 3\n",
    "time,X4,_,_ = evolve(t_initial, t_final, initial_conditions, dt, parameters)\n",
    "plt.figure()\n",
    "plt.plot(time,X2,'r',time,X3,'g',time,X4,'b--',linewidth=3)\n",
    "plt.xlabel(r\"t\", fontsize=14)\n",
    "plt.ylabel(r\"X\", fontsize=14)\n",
    "plt.grid(True)"
   ]
  },
  {
   "cell_type": "code",
   "execution_count": null,
   "metadata": {},
   "outputs": [],
   "source": [
    "from IPython.display import Image, display\n",
    "display(Image('figure3.png', width=600))"
   ]
  },
  {
   "cell_type": "markdown",
   "metadata": {},
   "source": [
    "Some complex behavior"
   ]
  },
  {
   "cell_type": "code",
   "execution_count": null,
   "metadata": {},
   "outputs": [],
   "source": [
    "parameters = param_init()\n",
    "parameters[8] = 0.164 #k_p lowered\n",
    "parameters[6] = 0.27  #k_CaA increased\n",
    "parameters[5] = 0.27  #k_CaI increased\n",
    "time,X1,_,_ = evolve(t_initial, t_final, initial_conditions, dt, parameters)\n",
    "plt.figure()\n",
    "plt.plot(time,X1,'k',linewidth=3,label = 'X')\n",
    "plt.xlabel(r\"t\", fontsize=14)\n",
    "plt.ylabel(r\"X\", fontsize=14)\n",
    "plt.grid(True)"
   ]
  },
  {
   "cell_type": "markdown",
   "metadata": {},
   "source": [
    "What about data:"
   ]
  },
  {
   "cell_type": "code",
   "execution_count": null,
   "metadata": {},
   "outputs": [],
   "source": [
    "from IPython.display import Image, display\n",
    "display(Image('cell_76.png', width=600))\n",
    "display(Image('cell_80.png', width=600))"
   ]
  },
  {
   "cell_type": "markdown",
   "metadata": {},
   "source": [
    "let's try to imitate:"
   ]
  },
  {
   "cell_type": "code",
   "execution_count": null,
   "metadata": {},
   "outputs": [],
   "source": [
    "t_final = 300\n",
    "#initial condition\n",
    "X0 = 0.4\n",
    "Y0 = 1.5\n",
    "Z0 = 0.1\n",
    "initial_conditions = np.array([X0,Y0,Z0])\n",
    "\n",
    "parameters = param_init()\n",
    "parameters[0] = 8\n",
    "parameters[1] = 25\n",
    "parameters[8] = 0.14 #k_p lowered\n",
    "parameters[7] = 0.10 # k_2\n",
    "parameters[6] = 0.4 #k_CaA increased\n",
    "parameters[5] = 0.4  #k_CaI increased\n",
    "time,X1,_,_ = evolve(t_initial, t_final, initial_conditions, dt, parameters,False)\n",
    "plt.figure()\n",
    "plt.plot(time,X1,'k',linewidth=3,label = 'X')\n",
    "plt.xlabel(r\"t\", fontsize=14)\n",
    "plt.ylabel(r\"X\", fontsize=14)\n",
    "plt.grid(True)"
   ]
  },
  {
   "cell_type": "code",
   "execution_count": null,
   "metadata": {},
   "outputs": [],
   "source": [
    "t_final = 300\n",
    "#initial condition\n",
    "X0 = 0.1\n",
    "Y0 = 0.5\n",
    "Z0 = 0.1\n",
    "initial_conditions = np.array([X0,Y0,Z0])\n",
    "\n",
    "parameters = param_init()\n",
    "parameters[0] = 15/2.1\n",
    "parameters[1] = 40/3\n",
    "parameters[2] = 0.051\n",
    "parameters[4] = 0.16\n",
    "parameters[8] = 0.3 \n",
    "parameters[5] = 1.9 \n",
    "parameters[6] = 0.15 \n",
    "time,X1,_,_ = evolve(t_initial, t_final, initial_conditions, dt, parameters,True)\n",
    "plt.figure()\n",
    "plt.plot(time,X1,'k',linewidth=3,label = 'X')\n",
    "plt.xlabel(r\"t\", fontsize=14)\n",
    "plt.ylabel(r\"X\", fontsize=14)\n",
    "plt.grid(True)"
   ]
  }
 ],
 "metadata": {
  "kernelspec": {
   "display_name": "Python 3",
   "language": "python",
   "name": "python3"
  },
  "language_info": {
   "codemirror_mode": {
    "name": "ipython",
    "version": 3
   },
   "file_extension": ".py",
   "mimetype": "text/x-python",
   "name": "python",
   "nbconvert_exporter": "python",
   "pygments_lexer": "ipython3",
   "version": "3.12.1"
  }
 },
 "nbformat": 4,
 "nbformat_minor": 2
}
